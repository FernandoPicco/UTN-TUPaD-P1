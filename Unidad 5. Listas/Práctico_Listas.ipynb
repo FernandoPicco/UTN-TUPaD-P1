{
 "cells": [
  {
   "cell_type": "markdown",
   "id": "95598f32",
   "metadata": {},
   "source": [
    "<h2>\n",
    "<font color=\"#032766\">\n",
    "<b>\n",
    "PROGRAMACIÓN 1\n",
    "</b>\n",
    "</font>\n",
    "</h2>\n",
    "\n",
    "\n",
    "<h3>\n",
    "<font color=\"#032766\">\n",
    "<b>\n",
    "Trabajo práctico 5: Listas \n",
    "</b>\n",
    "</font>\n",
    "</h3>"
   ]
  }
 ],
 "metadata": {
  "language_info": {
   "name": "python"
  }
 },
 "nbformat": 4,
 "nbformat_minor": 5
}
