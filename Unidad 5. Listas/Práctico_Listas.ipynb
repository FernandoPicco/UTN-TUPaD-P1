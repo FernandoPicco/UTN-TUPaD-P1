{
 "cells": [
  {
   "cell_type": "markdown",
   "id": "95598f32",
   "metadata": {},
   "source": [
    "<h2>\n",
    "<font color=\"#032766\">\n",
    "<b>\n",
    "PROGRAMACIÓN 1\n",
    "</b>\n",
    "</font>\n",
    "</h2>\n",
    "\n",
    "\n",
    "<h3>\n",
    "<font color=\"#032766\">\n",
    "<b>\n",
    "Trabajo práctico 5: Listas \n",
    "</b>\n",
    "</font>\n",
    "</h3>"
   ]
  },
  {
   "cell_type": "markdown",
   "id": "2623c983",
   "metadata": {},
   "source": [
    "Ejercicio 1\n",
    "\n",
    "Crear una lista con las notas de 10 estudiantes.\n",
    "\n",
    "• Mostrar la lista completa.\n",
    "\n",
    "• Calcular y mostrar el promedio.\n",
    "\n",
    "• Indicar la nota más alta y la más baja."
   ]
  },
  {
   "cell_type": "code",
   "execution_count": null,
   "id": "9321f44f",
   "metadata": {},
   "outputs": [],
   "source": [
    "# Paso nº1: mostrar la lista completa \n",
    "\n",
    "notas = [7, 8 , 10, 5, 9, 2, 1, 6, 4, 7]\n",
    "print(notas)\n",
    "\n",
    "for i in range(10):\n",
    "    print(notas[i], end=\" \") \n",
    "\n",
    "# Paso nº2: calcular y mostrar el promedio\n",
    "suma = 0\n",
    "for nota in notas:\n",
    "    suma += nota\n",
    "promedio = suma / len(notas) # len => me da el tamaño de la lista (cuántos elementos tengo)\n",
    "print(f\"\\n\\nEl promedio de las notas es: {promedio}\\n\")\n",
    "\n",
    "# Paso nº3: indicar la nota más alta y la más baja\n",
    "\n",
    "minima = notas[0]\n",
    "# Usando una función: minima = min(notas) => busca el mínimo sin usar if\n",
    "maxima = notas[0]\n",
    "# Usando una función: maxima = max(notas) => busca el mínimo sin usar if\n",
    "\n",
    "for nota in notas:\n",
    "    if nota<minima:\n",
    "        minima = nota\n",
    "    if nota > maxima:\n",
    "        maxima = nota\n",
    "\n",
    "print(f\"La nota más baja es: {minima}\")\n",
    "print(f\"La nota más alta es: {maxima}\")\n"
   ]
  }
 ],
 "metadata": {
  "language_info": {
   "name": "python"
  }
 },
 "nbformat": 4,
 "nbformat_minor": 5
}
