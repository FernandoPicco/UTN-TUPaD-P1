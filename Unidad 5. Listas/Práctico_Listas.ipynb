{
 "cells": [
  {
   "cell_type": "markdown",
   "id": "95598f32",
   "metadata": {},
   "source": [
    "<h2>\n",
    "<font color=\"#032766\">\n",
    "<b>\n",
    "PROGRAMACIÓN 1\n",
    "</b>\n",
    "</font>\n",
    "</h2>\n",
    "\n",
    "\n",
    "<h3>\n",
    "<font color=\"#032766\">\n",
    "<b>\n",
    "Trabajo práctico 5: Listas \n",
    "</b>\n",
    "</font>\n",
    "</h3>"
   ]
  },
  {
   "cell_type": "markdown",
   "id": "2623c983",
   "metadata": {},
   "source": [
    "Ejercicio 1\n",
    "\n",
    "Crear una lista con las notas de 10 estudiantes.\n",
    "\n",
    "• Mostrar la lista completa.\n",
    "\n",
    "• Calcular y mostrar el promedio.\n",
    "\n",
    "• Indicar la nota más alta y la más baja."
   ]
  },
  {
   "cell_type": "code",
   "execution_count": 3,
   "id": "9321f44f",
   "metadata": {},
   "outputs": [
    {
     "name": "stdout",
     "output_type": "stream",
     "text": [
      "[7, 8, 10, 5, 9, 2, 1, 6, 4, 7]\n",
      "7 8 10 5 9 2 1 6 4 7 \n",
      "\n",
      "El promedio de las notas es: 5.9\n",
      "\n",
      "La nota más baja es: 1\n",
      "La nota más alta es: 10\n"
     ]
    }
   ],
   "source": [
    "# Paso nº1: mostrar la lista completa \n",
    "\n",
    "notas = [7, 8 , 10, 5, 9, 2, 1, 6, 4, 7]\n",
    "print(notas)\n",
    "\n",
    "for i in range(10):\n",
    "    print(notas[i], end=\" \") \n",
    "\n",
    "# Paso nº2: calcular y mostrar el promedio\n",
    "suma = 0\n",
    "for nota in notas:\n",
    "    suma += nota\n",
    "promedio = suma / len(notas) # len => me da el tamaño de la lista (cuántos elementos tengo)\n",
    "print(f\"\\n\\nEl promedio de las notas es: {promedio}\\n\")\n",
    "\n",
    "# Paso nº3: indicar la nota más alta y la más baja\n",
    "\n",
    "minima = notas[0]\n",
    "# Usando una función: minima = min(notas) => busca el mínimo sin usar if\n",
    "maxima = notas[0]\n",
    "# Usando una función: maxima = max(notas) => busca el mínimo sin usar if\n",
    "\n",
    "for nota in notas:\n",
    "    if nota<minima:\n",
    "        minima = nota\n",
    "    if nota > maxima:\n",
    "        maxima = nota\n",
    "\n",
    "print(f\"La nota más baja es: {minima}\")\n",
    "print(f\"La nota más alta es: {maxima}\")\n"
   ]
  },
  {
   "cell_type": "markdown",
   "id": "b67ca64f",
   "metadata": {},
   "source": [
    "Ejercicio 2\n",
    "\n",
    "Pedir al usuario que cargue 5 productos en una lista.\n",
    "\n",
    "• Mostrar la lista ordenada alfabéticamente. Investigue el uso del método sorted().\n",
    "\n",
    "• Preguntar al usuario qué producto desea eliminar y actualizar la lista."
   ]
  },
  {
   "cell_type": "code",
   "execution_count": 6,
   "id": "cb0c48af",
   "metadata": {},
   "outputs": [
    {
     "name": "stdout",
     "output_type": "stream",
     "text": [
      "['carne', 'pollo', 'verduras', 'lacteos', 'pan']\n",
      "['carne', 'lacteos', 'pan', 'pollo', 'verduras']\n",
      "El producto eliminado es: verduras\n",
      "\n",
      "La lista de productos actualizada es:\n",
      "['carne', 'pollo', 'lacteos', 'pan']\n"
     ]
    }
   ],
   "source": [
    "# 1- crear lista vacía\n",
    "Lista_productos = []\n",
    "\n",
    "# 2- pedir al usuario la carga de productos \n",
    "for i in range(5):\n",
    "    producto = input(f\"Ingrese el producto seleccionado Nº {i+1}:\\n\")\n",
    "    Lista_productos.append(producto)\n",
    "print(Lista_productos)\n",
    "\n",
    "# Mostrar lista ordenada\n",
    "productos_ordenados = sorted(Lista_productos)\n",
    "print(productos_ordenados)\n",
    "\n",
    "# ¿Qué desea eliminar?\n",
    "producto_eliminado = input(\"Indique cuál de los productos ingresados desea eliminar\")\n",
    "# luego me aseguro de que el producto mencionado se encuetre en la lista de productos\n",
    "\n",
    "if producto_eliminado in Lista_productos:\n",
    "    Lista_productos.remove(producto_eliminado)\n",
    "    print(f\"El producto eliminado es: {producto_eliminado}\")\n",
    "else:\n",
    "    print(\"El producto ingresado no se encuentra dentro de los ingresados\")\n",
    "\n",
    "print(f\"\\nLa lista de productos actualizada es:\")\n",
    "print(Lista_productos)\n"
   ]
  }
 ],
 "metadata": {
  "kernelspec": {
   "display_name": "Python 3",
   "language": "python",
   "name": "python3"
  },
  "language_info": {
   "codemirror_mode": {
    "name": "ipython",
    "version": 3
   },
   "file_extension": ".py",
   "mimetype": "text/x-python",
   "name": "python",
   "nbconvert_exporter": "python",
   "pygments_lexer": "ipython3",
   "version": "3.13.5"
  }
 },
 "nbformat": 4,
 "nbformat_minor": 5
}
