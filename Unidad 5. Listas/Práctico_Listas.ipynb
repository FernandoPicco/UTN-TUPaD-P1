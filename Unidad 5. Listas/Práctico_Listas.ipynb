{
 "cells": [
  {
   "cell_type": "markdown",
   "id": "95598f32",
   "metadata": {},
   "source": [
    "<h2>\n",
    "<font color=\"#032766\">\n",
    "<b>\n",
    "PROGRAMACIÓN 1\n",
    "</b>\n",
    "</font>\n",
    "</h2>\n",
    "\n",
    "\n",
    "<h3>\n",
    "<font color=\"#032766\">\n",
    "<b>\n",
    "Trabajo práctico 5: Listas \n",
    "</b>\n",
    "</font>\n",
    "</h3>"
   ]
  },
  {
   "cell_type": "markdown",
   "id": "2623c983",
   "metadata": {},
   "source": [
    "Ejercicio 1\n",
    "\n",
    "Crear una lista con las notas de 10 estudiantes.\n",
    "\n",
    "• Mostrar la lista completa.\n",
    "\n",
    "• Calcular y mostrar el promedio.\n",
    "\n",
    "• Indicar la nota más alta y la más baja."
   ]
  },
  {
   "cell_type": "code",
   "execution_count": 3,
   "id": "9321f44f",
   "metadata": {},
   "outputs": [
    {
     "name": "stdout",
     "output_type": "stream",
     "text": [
      "[7, 8, 10, 5, 9, 2, 1, 6, 4, 7]\n",
      "7 8 10 5 9 2 1 6 4 7 \n",
      "\n",
      "El promedio de las notas es: 5.9\n",
      "\n",
      "La nota más baja es: 1\n",
      "La nota más alta es: 10\n"
     ]
    }
   ],
   "source": [
    "# Paso nº1: mostrar la lista completa \n",
    "\n",
    "notas = [7, 8 , 10, 5, 9, 2, 1, 6, 4, 7]\n",
    "print(notas)\n",
    "\n",
    "for i in range(10):\n",
    "    print(notas[i], end=\" \") \n",
    "\n",
    "# Paso nº2: calcular y mostrar el promedio\n",
    "suma = 0\n",
    "for nota in notas:\n",
    "    suma += nota\n",
    "promedio = suma / len(notas) # len => me da el tamaño de la lista (cuántos elementos tengo)\n",
    "print(f\"\\n\\nEl promedio de las notas es: {promedio}\\n\")\n",
    "\n",
    "# Paso nº3: indicar la nota más alta y la más baja\n",
    "\n",
    "minima = notas[0]\n",
    "# Usando una función: minima = min(notas) => busca el mínimo sin usar if\n",
    "maxima = notas[0]\n",
    "# Usando una función: maxima = max(notas) => busca el mínimo sin usar if\n",
    "\n",
    "for nota in notas:\n",
    "    if nota<minima:\n",
    "        minima = nota\n",
    "    if nota > maxima:\n",
    "        maxima = nota\n",
    "\n",
    "print(f\"La nota más baja es: {minima}\")\n",
    "print(f\"La nota más alta es: {maxima}\")\n"
   ]
  },
  {
   "cell_type": "markdown",
   "id": "b67ca64f",
   "metadata": {},
   "source": [
    "Ejercicio 2\n",
    "\n",
    "Pedir al usuario que cargue 5 productos en una lista.\n",
    "\n",
    "• Mostrar la lista ordenada alfabéticamente. Investigue el uso del método sorted().\n",
    "\n",
    "• Preguntar al usuario qué producto desea eliminar y actualizar la lista."
   ]
  },
  {
   "cell_type": "code",
   "execution_count": 6,
   "id": "cb0c48af",
   "metadata": {},
   "outputs": [
    {
     "name": "stdout",
     "output_type": "stream",
     "text": [
      "['carne', 'pollo', 'verduras', 'lacteos', 'pan']\n",
      "['carne', 'lacteos', 'pan', 'pollo', 'verduras']\n",
      "El producto eliminado es: verduras\n",
      "\n",
      "La lista de productos actualizada es:\n",
      "['carne', 'pollo', 'lacteos', 'pan']\n"
     ]
    }
   ],
   "source": [
    "# 1- crear lista vacía\n",
    "Lista_productos = []\n",
    "\n",
    "# 2- pedir al usuario la carga de productos \n",
    "for i in range(5):\n",
    "    producto = input(f\"Ingrese el producto seleccionado Nº {i+1}:\\n\")\n",
    "    Lista_productos.append(producto)\n",
    "print(Lista_productos)\n",
    "\n",
    "# Mostrar lista ordenada\n",
    "productos_ordenados = sorted(Lista_productos)\n",
    "print(productos_ordenados)\n",
    "\n",
    "# ¿Qué desea eliminar?\n",
    "producto_eliminado = input(\"Indique cuál de los productos ingresados desea eliminar\")\n",
    "# luego me aseguro de que el producto mencionado se encuetre en la lista de productos\n",
    "\n",
    "if producto_eliminado in Lista_productos:\n",
    "    Lista_productos.remove(producto_eliminado)\n",
    "    print(f\"El producto eliminado es: {producto_eliminado}\")\n",
    "else:\n",
    "    print(\"El producto ingresado no se encuentra dentro de los ingresados\")\n",
    "\n",
    "print(f\"\\nLa lista de productos actualizada es:\")\n",
    "print(Lista_productos)\n"
   ]
  },
  {
   "cell_type": "markdown",
   "id": "46e85091",
   "metadata": {},
   "source": [
    "Ejercicio 3\n",
    "\n",
    "Generar una lista con 15 números enteros al azar entre 1 y 100.\n",
    "\n",
    "• Crear una lista con los pares y otra con los impares.\n",
    "\n",
    "• Mostrar cuántos números tiene cada lista."
   ]
  },
  {
   "cell_type": "code",
   "execution_count": 7,
   "id": "116004e0",
   "metadata": {},
   "outputs": [
    {
     "name": "stdout",
     "output_type": "stream",
     "text": [
      "\n",
      "Lista de 15 nros. enteros generados al azar entre 1 y 100 [56, 68, 28, 88, 59, 71, 10, 91, 70, 89, 42, 8, 37, 8, 62]\n",
      "\n",
      "Lista de nros. pares: \n",
      "\n",
      "[56, 68, 28, 88, 10, 70, 42, 8, 8, 62] \n",
      "\n",
      "La cantidad de nros. pares es: 10\n",
      "\n",
      "Lista de nros. impares: \n",
      "\n",
      "[59, 71, 91, 89, 37] \n",
      "\n",
      "La cantidad de nros. impares es: 5\n",
      "\n"
     ]
    }
   ],
   "source": [
    "# importo el módulo para generar la función que genera nros. aleatorios\n",
    "import random\n",
    "\n",
    "# creo la lista vacía para guardar los nros. enteros \n",
    "numeros_enteros = []\n",
    "# buscamos por cada iteración un nro. aleatorio entre 1 y 100\n",
    "for i in range(15):\n",
    "    nros_aleatorios = random.randint(1, 100)\n",
    "    numeros_enteros.append(nros_aleatorios)\n",
    "\n",
    "# crear listas para nros. pares e impares\n",
    "nros_pares = []\n",
    "nros_impares = []\n",
    "\n",
    "# por cada nro. aleatorio validar si es par o impar y agregarlos a la lista correspondiente\n",
    "\n",
    "for nros_aleatorios in numeros_enteros:\n",
    "    if nros_aleatorios % 2 == 0:\n",
    "        nros_pares.append(nros_aleatorios)\n",
    "    else:\n",
    "        nros_impares.append(nros_aleatorios)\n",
    "\n",
    "print(f\"\\nLista de 15 nros. enteros generados al azar entre 1 y 100 {numeros_enteros}\\n\")\n",
    "print(f\"Lista de nros. pares: \\n\")\n",
    "print(nros_pares,\"\\n\")\n",
    "print(f\"La cantidad de nros. pares es: {len(nros_pares)}\\n\")\n",
    "print(f\"Lista de nros. impares: \\n\")\n",
    "print(nros_impares,\"\\n\")\n",
    "print(f\"La cantidad de nros. impares es: {len(nros_impares)}\\n\")\n",
    "\n"
   ]
  },
  {
   "cell_type": "markdown",
   "id": "e53ea235",
   "metadata": {},
   "source": [
    "Ejercicio 4\n",
    "\n",
    "Dada una lista con valores repetidos:\n",
    "\n",
    "datos = [1, 3, 5, 3, 7, 1, 9, 5, 3]\n",
    "\n",
    "• Crear una nueva lista sin elementos repetidos.\n",
    "\n",
    "• Mostrar el resultado."
   ]
  },
  {
   "cell_type": "code",
   "execution_count": null,
   "id": "5f6e943b",
   "metadata": {},
   "outputs": [
    {
     "name": "stdout",
     "output_type": "stream",
     "text": [
      "\n",
      "Lista con valores repetidos: [1, 3, 5, 3, 7, 1, 9, 5, 3]\n",
      "\n",
      "Lista con valores no repetidos: [1, 3, 5, 7, 9]\n"
     ]
    }
   ],
   "source": [
    "# agrego la lista \"datos\"\n",
    "datos = [1, 3, 5, 3, 7, 1, 9, 5, 3]\n",
    "\n",
    "# nueva lista para guardar los nros. que no se repiten\n",
    "datos_no_repetidos = []\n",
    "# recorro cada elemento y si encuentro un valor que no se repite => lo agrego a la nueva lista.\n",
    "for x in datos:\n",
    "    if x not in datos_no_repetidos:\n",
    "        datos_no_repetidos.append(x)\n",
    "# Muestro los resultados de ambas listas.\n",
    "print(f\"\\nLista con valores repetidos: {datos}\\n\")\n",
    "print(f\"Lista con valores no repetidos: {datos_no_repetidos}\")"
   ]
  },
  {
   "cell_type": "markdown",
   "id": "7f68a67d",
   "metadata": {},
   "source": [
    "Ejercicio 5\n",
    "\n",
    "Crear una lista con los nombres de 8 estudiantes presentes en clase.\n",
    "\n",
    "• Preguntar al usuario si quiere agregar un nuevo estudiante o eliminar uno existente.\n",
    "\n",
    "• Mostrar la lista final actualizada."
   ]
  },
  {
   "cell_type": "code",
   "execution_count": null,
   "id": "2db30703",
   "metadata": {},
   "outputs": [
    {
     "name": "stdout",
     "output_type": "stream",
     "text": [
      "\n",
      "Asistencia actual: \n",
      "Fernando-Octavia-Malena-Daniel-Elsa-Andrea-Alejo-Ramona-Asistencia renovada: \n",
      "Fernando-Octavia-Malena-Daniel-Elsa-Andrea-Alejo-Ramona-Carlos-"
     ]
    }
   ],
   "source": [
    "# se crea una lista con los nombres de 8 alumnos presentes en clase\n",
    "estudiantes = [\"Fernando\", \"Octavia\", \"Malena\", \"Daniel\", \"Elsa\", \"Andrea\", \"Alejo\", \"Ramona\"]\n",
    "\n",
    "# muestro asistencia actual\n",
    "print(\"\\nAsistencia actual: \")\n",
    "for x in estudiantes:\n",
    "    print(x, end=\" - \")\n",
    "\n",
    "# creo una variable para darle la posibilidad al usuario de elegir si agrega o elimina a un alumno\n",
    "opcion = input(\"Ingrese (1) para agregar un nuevo estudiante o (2) para eliminar uno existente\").upper()\n",
    "if opcion == \"1\":\n",
    "    nuevo_estudiante = input(\"Ingrese en nombre del nuevo estudiante: \").title()\n",
    "    estudiantes.append(nuevo_estudiante)\n",
    "else:\n",
    "    if opcion == \"2\":\n",
    "        estudiante_eliminado = input(\"Ingrese el nombre del estudiante que desea eliminar: \").title()\n",
    "\n",
    "        if estudiante_eliminado in estudiantes:\n",
    "            estudiantes.remove(estudiante_eliminado)\n",
    "        else:\n",
    "            print(\"El estudiante ingresado no existe\")\n",
    "    else:\n",
    "        print(\"Opción incorrecta\")\n",
    "\n",
    "print(\"Asistencia renovada: \")\n",
    "for x in estudiantes:\n",
    "    print(x, end=\" - \")"
   ]
  },
  {
   "cell_type": "markdown",
   "id": "a5107401",
   "metadata": {},
   "source": [
    "Ejercicio 6\n",
    "\n",
    "Dada una lista con 7 números, rotar todos los elementos una posición hacia la derecha (el último pasa a ser el primero)."
   ]
  },
  {
   "cell_type": "code",
   "execution_count": 15,
   "id": "a15e38bb",
   "metadata": {},
   "outputs": [
    {
     "name": "stdout",
     "output_type": "stream",
     "text": [
      "[1, 2, 3, 4, 5, 6]\n",
      "[7, 1, 2, 3, 4, 5, 6]\n"
     ]
    }
   ],
   "source": [
    "# lista de 7 números\n",
    "numeros = [1, 2, 3, 4, 5, 6, 7]\n",
    "# print(numeros[-1]) pruba de que el 7 es el último\n",
    "\n",
    "# defino la variable \"último_numero\" y \"nros_restantes\"\n",
    "ultimo_numero = numeros[-1]\n",
    "\n",
    "nros_restantes = numeros[:6]\n",
    "print(nros_restantes)\n",
    "\n",
    "nueva_lista = [ultimo_numero] + nros_restantes\n",
    "print(nueva_lista)\n",
    "\n",
    "\n",
    "\n"
   ]
  }
 ],
 "metadata": {
  "kernelspec": {
   "display_name": "Python 3",
   "language": "python",
   "name": "python3"
  },
  "language_info": {
   "codemirror_mode": {
    "name": "ipython",
    "version": 3
   },
   "file_extension": ".py",
   "mimetype": "text/x-python",
   "name": "python",
   "nbconvert_exporter": "python",
   "pygments_lexer": "ipython3",
   "version": "3.13.5"
  }
 },
 "nbformat": 4,
 "nbformat_minor": 5
}
