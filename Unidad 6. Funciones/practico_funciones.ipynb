{
 "cells": [
  {
   "cell_type": "markdown",
   "id": "2a9743b5",
   "metadata": {},
   "source": [
    "<h2>\n",
    "<font color=\"#032766\">\n",
    "<b>\n",
    "PROGRAMACIÓN 1\n",
    "</b>\n",
    "</font>\n",
    "</h2>\n",
    "\n",
    "\n",
    "<h3>\n",
    "<font color=\"#032766\">\n",
    "<b>\n",
    "Trabajo práctico 6: Funciones \n",
    "</b>\n",
    "</font>\n",
    "</h3>"
   ]
  },
  {
   "cell_type": "markdown",
   "id": "85c5f623",
   "metadata": {},
   "source": [
    "Ejercicio 1\n",
    "\n",
    "Crear una función llamada imprimir_hola_mundo que imprima por pantalla el mensaje: “Hola Mundo!”. Llamar a esta función desde el programa principal."
   ]
  },
  {
   "cell_type": "code",
   "execution_count": null,
   "id": "5ad1ab68",
   "metadata": {},
   "outputs": [
    {
     "ename": "SyntaxError",
     "evalue": "invalid syntax (1456275222.py, line 2)",
     "output_type": "error",
     "traceback": [
      "  \u001b[36mCell\u001b[39m\u001b[36m \u001b[39m\u001b[32mIn[1]\u001b[39m\u001b[32m, line 2\u001b[39m\n\u001b[31m    \u001b[39m\u001b[31mdef imprimir_hola_mundo(\"\"):\u001b[39m\n                            ^\n\u001b[31mSyntaxError\u001b[39m\u001b[31m:\u001b[39m invalid syntax\n"
     ]
    }
   ],
   "source": [
    "# defino la función\n",
    "def imprimir_hola_mundo():\n",
    "    print(\"Hola Mundo!\")\n",
    "\n",
    "\n",
    "# programa principal\n",
    "imprimir_hola_mundo()"
   ]
  }
 ],
 "metadata": {
  "kernelspec": {
   "display_name": "Python 3",
   "language": "python",
   "name": "python3"
  },
  "language_info": {
   "codemirror_mode": {
    "name": "ipython",
    "version": 3
   },
   "file_extension": ".py",
   "mimetype": "text/x-python",
   "name": "python",
   "nbconvert_exporter": "python",
   "pygments_lexer": "ipython3",
   "version": "3.13.5"
  }
 },
 "nbformat": 4,
 "nbformat_minor": 5
}
