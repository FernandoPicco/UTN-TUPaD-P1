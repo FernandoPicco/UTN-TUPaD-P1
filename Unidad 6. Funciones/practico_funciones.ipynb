{
 "cells": [
  {
   "cell_type": "markdown",
   "id": "2a9743b5",
   "metadata": {},
   "source": [
    "<h2>\n",
    "<font color=\"#032766\">\n",
    "<b>\n",
    "PROGRAMACIÓN 1\n",
    "</b>\n",
    "</font>\n",
    "</h2>\n",
    "\n",
    "\n",
    "<h3>\n",
    "<font color=\"#032766\">\n",
    "<b>\n",
    "Trabajo práctico 6: Funciones \n",
    "</b>\n",
    "</font>\n",
    "</h3>"
   ]
  },
  {
   "cell_type": "markdown",
   "id": "85c5f623",
   "metadata": {},
   "source": [
    "Ejercicio 1\n",
    "\n",
    "Crear una función llamada imprimir_hola_mundo que imprima por pantalla el mensaje: “Hola Mundo!”. Llamar a esta función desde el programa principal."
   ]
  },
  {
   "cell_type": "code",
   "execution_count": 2,
   "id": "5ad1ab68",
   "metadata": {},
   "outputs": [
    {
     "name": "stdout",
     "output_type": "stream",
     "text": [
      "Hola Mundo!\n"
     ]
    }
   ],
   "source": [
    "# defino la función\n",
    "def imprimir_hola_mundo():\n",
    "    print(\"Hola Mundo!\")\n",
    "\n",
    "\n",
    "# programa principal\n",
    "imprimir_hola_mundo()"
   ]
  },
  {
   "cell_type": "markdown",
   "id": "879e4cb3",
   "metadata": {},
   "source": [
    "Ejercicio 2\n",
    "\n",
    "Crear una función llamada saludar_usuario(nombre) que reciba como parámetro un nombre y devuelva un saludo personalizado. Por ejemplo, si se llama con saludar_usuario(\"Marcos\"), deberá devolver: “Hola Marcos!”. Llamar a esta función desde el programa principal solicitando el nombre al usuario."
   ]
  },
  {
   "cell_type": "code",
   "execution_count": null,
   "id": "77c39475",
   "metadata": {},
   "outputs": [
    {
     "name": "stdout",
     "output_type": "stream",
     "text": [
      "Hola Fernando!\n"
     ]
    }
   ],
   "source": [
    "# defino la función\n",
    "def saludar_usuario(nombre):\n",
    "    print(f\"Hola {nombre}!\")\n",
    "\n",
    "# programa principal\n",
    "\n",
    "nombre = input(\"Ingrese su nombre: \")\n",
    "\n",
    "saludar_usuario(nombre)"
   ]
  },
  {
   "cell_type": "markdown",
   "id": "5c708865",
   "metadata": {},
   "source": [
    "Ejercicio 3\n",
    "\n",
    "Crear una función llamada informacion_personal(nombre, apellido, edad, residencia) que reciba cuatro parámetros e imprima: “Soy [nombre] [apellido], tengo [edad] años y vivo en [residencia]”. Pedir los datos al usuario y llamar a esta función con los valores ingresados."
   ]
  },
  {
   "cell_type": "code",
   "execution_count": 7,
   "id": "4ab22cc5",
   "metadata": {},
   "outputs": [
    {
     "name": "stdout",
     "output_type": "stream",
     "text": [
      "Soy Fer, tengo 43 años y vivo en Tigre\n"
     ]
    }
   ],
   "source": [
    "# defino la función\n",
    "def informacion_personal(nombre, apellido, edad, residencia):\n",
    "    print(f\"Soy {nombre}, tengo {edad} años y vivo en {residencia}\")\n",
    "\n",
    "# programa principal\n",
    "nombre = input(\"Ingrese su nombre: \")\n",
    "apellido = input(\"Ingrese su apellido: \")\n",
    "edad = input(\"Ingrese su edad: \")\n",
    "residencia = input(\"Ingrese el lugar de residencia: \")\n",
    "\n",
    "informacion_personal(nombre, apellido, edad, residencia)"
   ]
  },
  {
   "cell_type": "markdown",
   "id": "1c926f21",
   "metadata": {},
   "source": [
    "Ejercicio 4\n",
    "\n",
    "Crear dos funciones: calcular_area_circulo(radio) que reciba el radio como parámetro y devuelva el área del círculo. calcular_perimetro_circulo(radio) que reciba el radio como parámetro y devuelva el perímetro del círculo. Solicitar el radio al usuario y llamar ambas funciones para mostrar los resultados."
   ]
  },
  {
   "cell_type": "code",
   "execution_count": 15,
   "id": "97218d9c",
   "metadata": {},
   "outputs": [
    {
     "name": "stdout",
     "output_type": "stream",
     "text": [
      "El área del círculo es 78.54 Cm.\n",
      "El perímetro del círculo es 31.42 Cm.\n"
     ]
    }
   ],
   "source": [
    "# importo el valor de pi\n",
    "import math\n",
    "\n",
    "# defino la función 1\n",
    "def calcular_area_circulo(radio):\n",
    "    area = (math.pi) * radio**2\n",
    "    return area\n",
    "\n",
    "# defino la función 2\n",
    "def calcular_perimetro_circulo(radio):\n",
    "    perimetro = 2*(math.pi)* radio\n",
    "    return perimetro\n",
    "\n",
    "# programa principal\n",
    "\n",
    "radio = float(input(\"Ingrese el radio del círculo en Cm: \"))\n",
    "\n",
    "# invoco la función\n",
    "area = calcular_area_circulo(radio)\n",
    "perimetro = calcular_perimetro_circulo(radio)\n",
    "\n",
    "print(f\"El área del círculo es {area:.2f} Cm.\")\n",
    "print(f\"El perímetro del círculo es {perimetro:.2f} Cm.\")"
   ]
  },
  {
   "cell_type": "markdown",
   "id": "895b5966",
   "metadata": {},
   "source": [
    "Ejercicio 5\n",
    "\n",
    "Crear una función llamada segundos_a_horas(segundos) que reciba una cantidad de segundos como parámetro y devuelva la cantidad de horas correspondientes. Solicitar al usuario los segundos y mostrar el resultado usando esta función."
   ]
  },
  {
   "cell_type": "code",
   "execution_count": 19,
   "id": "7c4b73e3",
   "metadata": {},
   "outputs": [
    {
     "name": "stdout",
     "output_type": "stream",
     "text": [
      "4500 segundos equivalen a 1.25 horas.\n"
     ]
    }
   ],
   "source": [
    "# defino la funcion\n",
    "def segundos_a_horas(segundos):\n",
    "    horas = segundos / 3600\n",
    "    return horas# \n",
    "\n",
    "# programa principal\n",
    "segundos = int(input(\"Ingrese el tiempo expresado en segundos: \"))\n",
    "\n",
    "# invoco la función \n",
    "\n",
    "horas = segundos_a_horas(segundos)\n",
    "\n",
    "print(f\"{segundos} segundos equivalen a {horas:.2f} horas.\")"
   ]
  },
  {
   "cell_type": "markdown",
   "id": "41ee437b",
   "metadata": {},
   "source": [
    "Ejercicio 6\n",
    "\n",
    "Crear una función llamada tabla_multiplicar(numero) que reciba un número como parámetro y imprima la tabla de multiplicar de ese número del 1 al 10. Pedir al usuario el número y llamar a la función."
   ]
  },
  {
   "cell_type": "code",
   "execution_count": 25,
   "id": "61710ecf",
   "metadata": {},
   "outputs": [
    {
     "name": "stdout",
     "output_type": "stream",
     "text": [
      "Tabla de multiplicar del número 6\n",
      "6 X 1 = 6\n",
      "6 X 2 = 12\n",
      "6 X 3 = 18\n",
      "6 X 4 = 24\n",
      "6 X 5 = 30\n",
      "6 X 6 = 36\n",
      "6 X 7 = 42\n",
      "6 X 8 = 48\n",
      "6 X 9 = 54\n",
      "6 X 10 = 60\n"
     ]
    }
   ],
   "source": [
    "# defino la función\n",
    "def tabla_multiplicar(numero):\n",
    "    print(f\"Tabla de multiplicar del número {numero}\")\n",
    "    for i in range(1, 11):\n",
    "        resultado = numero * i\n",
    "        print(f\"{numero} X {i} = {resultado}\")\n",
    "    \n",
    "\n",
    "\n",
    "# programa principal\n",
    "numero = int(input(\"Ingrese un número entero: \"))\n",
    "\n",
    "\n",
    "# invoco la función\n",
    "tabla_multiplicar(numero)\n"
   ]
  },
  {
   "cell_type": "markdown",
   "id": "d70e8a22",
   "metadata": {},
   "source": [
    "Ejercicio 7\n",
    "\n",
    "Crear una función llamada operaciones_basicas(a, b) que reciba dos números como parámetros y devuelva una tupla con el resultado de sumarlos, restarlos, multiplicarlos y dividirlos. Mostrar los resultados de forma clara."
   ]
  },
  {
   "cell_type": "code",
   "execution_count": null,
   "id": "fe6a14c7",
   "metadata": {},
   "outputs": [
    {
     "name": "stdout",
     "output_type": "stream",
     "text": [
      "Los resultados de las operaciones aritméticas son: \n",
      "Suma: 9\n",
      "Resta: -3\n",
      "Multiplicación: 18\n",
      "Divición: 0.5\n"
     ]
    }
   ],
   "source": [
    "# defino la función\n",
    "def operaciones_basicas(a, b):\n",
    "   suma = a + b\n",
    "   resta = a - b\n",
    "   multiplicar = a * b\n",
    "   if b != 0:\n",
    "      dividir = a / b\n",
    "   else:\n",
    "      print(\"No se puede dividir por cero.\") \n",
    "\n",
    "   return (suma, resta, multiplicar, dividir)\n",
    "\n",
    "# programa principal\n",
    "a = int(input(\"Ingrese un número: \"))\n",
    "b = int(input(\"Ingrese otro: \"))\n",
    "\n",
    "# invoco la función\n",
    "resultado = operaciones_basicas(a,b)\n",
    "\n",
    "print(\"Los resultados de las operaciones aritméticas son: \")\n",
    "print(f\"Suma: {resultado[0]}\")\n",
    "print(f\"Resta: {resultado[1]}\")\n",
    "print(f\"Multiplicación: {resultado[2]}\")\n",
    "print(f\"División: {resultado[3]}\")"
   ]
  }
 ],
 "metadata": {
  "kernelspec": {
   "display_name": "Python 3",
   "language": "python",
   "name": "python3"
  },
  "language_info": {
   "codemirror_mode": {
    "name": "ipython",
    "version": 3
   },
   "file_extension": ".py",
   "mimetype": "text/x-python",
   "name": "python",
   "nbconvert_exporter": "python",
   "pygments_lexer": "ipython3",
   "version": "3.13.5"
  }
 },
 "nbformat": 4,
 "nbformat_minor": 5
}
