{
 "cells": [
  {
   "cell_type": "markdown",
   "id": "2a9743b5",
   "metadata": {},
   "source": [
    "<h2>\n",
    "<font color=\"#032766\">\n",
    "<b>\n",
    "PROGRAMACIÓN 1\n",
    "</b>\n",
    "</font>\n",
    "</h2>\n",
    "\n",
    "\n",
    "<h3>\n",
    "<font color=\"#032766\">\n",
    "<b>\n",
    "Trabajo práctico 6: Funciones \n",
    "</b>\n",
    "</font>\n",
    "</h3>"
   ]
  },
  {
   "cell_type": "markdown",
   "id": "85c5f623",
   "metadata": {},
   "source": [
    "Ejercicio 1\n",
    "\n",
    "Crear una función llamada imprimir_hola_mundo que imprima por pantalla el mensaje: “Hola Mundo!”. Llamar a esta función desde el programa principal."
   ]
  },
  {
   "cell_type": "code",
   "execution_count": 2,
   "id": "5ad1ab68",
   "metadata": {},
   "outputs": [
    {
     "name": "stdout",
     "output_type": "stream",
     "text": [
      "Hola Mundo!\n"
     ]
    }
   ],
   "source": [
    "# defino la función\n",
    "def imprimir_hola_mundo():\n",
    "    print(\"Hola Mundo!\")\n",
    "\n",
    "\n",
    "# programa principal\n",
    "imprimir_hola_mundo()"
   ]
  },
  {
   "cell_type": "markdown",
   "id": "879e4cb3",
   "metadata": {},
   "source": [
    "Ejercicio 2\n",
    "\n",
    "Crear una función llamada saludar_usuario(nombre) que reciba como parámetro un nombre y devuelva un saludo personalizado. Por ejemplo, si se llama con saludar_usuario(\"Marcos\"), deberá devolver: “Hola Marcos!”. Llamar a esta función desde el programa principal solicitando el nombre al usuario."
   ]
  },
  {
   "cell_type": "code",
   "execution_count": null,
   "id": "77c39475",
   "metadata": {},
   "outputs": [
    {
     "name": "stdout",
     "output_type": "stream",
     "text": [
      "Hola Fer !\n"
     ]
    }
   ],
   "source": [
    "# defino la función\n",
    "def saludar_usuario(nombre):\n",
    "    print(f\"Hola {nombre}!\")\n",
    "\n",
    "# programa principal\n",
    "\n",
    "nombre = input(\"Ingrese su nombre: \")\n",
    "saludar_usuario(nombre)"
   ]
  }
 ],
 "metadata": {
  "kernelspec": {
   "display_name": "Python 3",
   "language": "python",
   "name": "python3"
  },
  "language_info": {
   "codemirror_mode": {
    "name": "ipython",
    "version": 3
   },
   "file_extension": ".py",
   "mimetype": "text/x-python",
   "name": "python",
   "nbconvert_exporter": "python",
   "pygments_lexer": "ipython3",
   "version": "3.13.5"
  }
 },
 "nbformat": 4,
 "nbformat_minor": 5
}
